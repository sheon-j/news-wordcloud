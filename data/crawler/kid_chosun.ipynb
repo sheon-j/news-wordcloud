{
  "nbformat": 4,
  "nbformat_minor": 0,
  "metadata": {
    "colab": {
      "name": "Untitled5.ipynb",
      "provenance": [],
      "collapsed_sections": [],
      "authorship_tag": "ABX9TyM5YESHdNBm3owHaR+ZbuMc",
      "include_colab_link": true
    },
    "kernelspec": {
      "name": "python3",
      "display_name": "Python 3"
    },
    "language_info": {
      "name": "python"
    }
  },
  "cells": [
    {
      "cell_type": "markdown",
      "metadata": {
        "id": "view-in-github",
        "colab_type": "text"
      },
      "source": [
        "<a href=\"https://colab.research.google.com/github/sheon-j/news-wordcloud/blob/main/data/crawler/kid_chosun.ipynb\" target=\"_parent\"><img src=\"https://colab.research.google.com/assets/colab-badge.svg\" alt=\"Open In Colab\"/></a>"
      ]
    },
    {
      "cell_type": "code",
      "execution_count": 1,
      "metadata": {
        "id": "uynIuNZ0uRcg"
      },
      "outputs": [],
      "source": [
        "from urllib import request\n",
        "from urllib.parse import quote\n",
        "from bs4 import BeautifulSoup\n",
        "import re\n",
        "from datetime import datetime\n",
        "import pandas as pd"
      ]
    },
    {
      "cell_type": "code",
      "source": [
        "# crawl href\n",
        "def crawl_href(url):\n",
        "  req = request.urlopen(url).read()\n",
        "  soup = BeautifulSoup(req, 'html.parser')\n",
        "  \n",
        "  # get href\n",
        "  target_news_list=[div.select_one('a').get('href') \n",
        "                    for div in soup.select('.con')]\n",
        "  \n",
        "  return target_news_list\n",
        "\n",
        "\n",
        "# crawl data\n",
        "def crawl_data(url):\n",
        "  req = request.urlopen(url).read()\n",
        "  soup = BeautifulSoup(req, 'html.parser')\n",
        "\n",
        "  # get data from target news data\n",
        "  json_data = {}\n",
        "  # news_url\n",
        "  json_data['news_url'] = url\n",
        "\n",
        "  # news_source\n",
        "  json_data['news_source'] = '어린이조선일보'\n",
        "\n",
        "  # news_title\n",
        "  news_title = soup.select_one('.page_title_subject').text\n",
        "  json_data['news_title'] = news_title\n",
        "\n",
        "  # news_date\n",
        "  news_date = soup.select_one('.date').text\n",
        "  news_date = re.sub('\\s{2,}| : |[가-힣]', '', news_date)\n",
        "  json_data['news_date'] = news_date\n",
        "\n",
        "  # news_writer\n",
        "  news_writer = soup.select_one('.author').text\n",
        "  news_writer = re.sub('[^가-힣·= ]|\\s{2,}', '', news_writer)\n",
        "  json_data['news_writer'] = news_writer\n",
        "\n",
        "  # news_subtitle\n",
        "  if soup.select_one('#article h3'):\n",
        "    news_subtitle = soup.select_one('#article h3').text\n",
        "  else:\n",
        "    news_subtitle = ''\n",
        "  json_data['news_subtitle'] = news_subtitle\n",
        "\n",
        "  # news_img\n",
        "  if soup.select_one('#article img'):\n",
        "    news_img = soup.select_one('#article img').get('src')\n",
        "  else:\n",
        "    news_img = ''\n",
        "  json_data['news_img'] = news_img\n",
        "\n",
        "  # news_article\n",
        "  if soup.select_one('#article'):\n",
        "    soup.dl.extract()\n",
        "    news_article = soup.select_one('#article').text\n",
        "    news_article = re.sub('[^가-힣a-zA-Z0-9. ]|\\s{2,}', '', news_article).strip()\n",
        "    news_article\n",
        "  else:\n",
        "    news_article = ''\n",
        "  json_data['news_article'] = news_article\n",
        "\n",
        "  return json_data"
      ],
      "metadata": {
        "id": "vDksIkf_AYaI"
      },
      "execution_count": 80,
      "outputs": []
    },
    {
      "cell_type": "code",
      "source": [
        "# target: 어린이조선일보\n",
        "news_list = []\n",
        "data = []\n",
        "\n",
        "# 시사뉴스\n",
        "kid_chosun_url = \"http://kid.chosun.com\"\n",
        "news_list_url = \"/list_kj.html?catid=111&pn=\""
      ],
      "metadata": {
        "id": "zYa7KvmDvBwO"
      },
      "execution_count": 87,
      "outputs": []
    },
    {
      "cell_type": "code",
      "source": [
        "# crawl href\n",
        "for page in range(1, 25):\n",
        "  news_list += crawl_href(kid_chosun_url + news_list_url + str(page))"
      ],
      "metadata": {
        "id": "BEwQ6dmXa5dk"
      },
      "execution_count": 97,
      "outputs": []
    },
    {
      "cell_type": "code",
      "source": [
        "# crawl news data\n",
        "for news in news_list:\n",
        "  data.append(crawl_data(kid_chosun_url + news))"
      ],
      "metadata": {
        "id": "wqIprB2aKo0r"
      },
      "execution_count": 100,
      "outputs": []
    },
    {
      "cell_type": "code",
      "source": [
        "crawl_href(kid_chosun_url + news_list_url + str(page))"
      ],
      "metadata": {
        "colab": {
          "base_uri": "https://localhost:8080/"
        },
        "id": "tiCFGrDxNJFt",
        "outputId": "ea411788-ed19-4e2f-a640-46de01d3f0d9"
      },
      "execution_count": 103,
      "outputs": [
        {
          "output_type": "execute_result",
          "data": {
            "text/plain": [
              "['/site/data/html_dir/2022/03/01/2022030101725.html',\n",
              " '/site/data/html_dir/2022/03/01/2022030101725.html',\n",
              " '/site/data/html_dir/2022/03/01/2022030101723.html',\n",
              " '/site/data/html_dir/2022/03/01/2022030101720.html',\n",
              " '/site/data/html_dir/2022/03/01/2022030101714.html',\n",
              " '/site/data/html_dir/2022/03/01/2022030101660.html',\n",
              " '/site/data/html_dir/2022/03/01/2022030101739.html',\n",
              " '/site/data/html_dir/2022/03/01/2022030101734.html',\n",
              " '/site/data/html_dir/2022/03/01/2022030101731.html',\n",
              " '/site/data/html_dir/2022/02/28/2022022801787.html',\n",
              " '/site/data/html_dir/2022/02/28/2022022801767.html']"
            ]
          },
          "metadata": {},
          "execution_count": 103
        }
      ]
    },
    {
      "cell_type": "code",
      "source": [
        "# data preprocess\n",
        "df = pd.DataFrame(data)"
      ],
      "metadata": {
        "id": "96LACJykceiD"
      },
      "execution_count": null,
      "outputs": []
    },
    {
      "cell_type": "code",
      "source": [
        "# save to csv\n",
        "df.to_csv('adult_news_data.csv',mode = 'w', index=False)"
      ],
      "metadata": {
        "id": "OATg70PudCc4"
      },
      "execution_count": 408,
      "outputs": []
    }
  ]
}